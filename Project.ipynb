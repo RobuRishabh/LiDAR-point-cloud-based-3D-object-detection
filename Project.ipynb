{
 "cells": [
  {
   "cell_type": "code",
   "execution_count": 11,
   "id": "014db83f-1aff-49fa-ba4f-69d348240ac5",
   "metadata": {},
   "outputs": [],
   "source": [
    "from bagpy import bagreader\n",
    "import rospy\n",
    "import std_msgs.msg\n",
    "import sensor_msgs.point_cloud2 as pc2"
   ]
  },
  {
   "cell_type": "code",
   "execution_count": 74,
   "id": "c75fc76b-d651-4e01-934e-0f200bc143ad",
   "metadata": {
    "tags": []
   },
   "outputs": [],
   "source": [
    "import pandas as pd\n",
    "import numpy as np\n",
    "import velodyne_decoder as vd\n",
    "import open3d as o3d\n",
    "from tqdm.auto import tqdm\n",
    "import matplotlib.pyplot as plt\n",
    "import time\n",
    "import pandas as pd"
   ]
  },
  {
   "cell_type": "code",
   "execution_count": 12,
   "id": "f5a92ffc-eda6-4b28-9f76-c516f6f201ed",
   "metadata": {
    "tags": []
   },
   "outputs": [
    {
     "data": {
      "application/vnd.jupyter.widget-view+json": {
       "model_id": "866b2399c06b49e3a58f5e0b026654c7",
       "version_major": 2,
       "version_minor": 0
      },
      "text/plain": [
       "0it [00:00, ?it/s]"
      ]
     },
     "metadata": {},
     "output_type": "display_data"
    }
   ],
   "source": [
    "config = vd.Config(model='VLP-16') \n",
    "bagfile = '/home/german/Desktop/Project/2017-10-18-17-33-13_0.bag'\n",
    "lidar_topics = ['/ns1/velodyne_packets'] # '/ns2/velodyne_packets'\n",
    "cloud_arrays = []\n",
    "for stamp, points, topic in tqdm(vd.read_bag(bagfile, config, lidar_topics)):\n",
    "    cloud_arrays.append(points)"
   ]
  },
  {
   "cell_type": "code",
   "execution_count": 13,
   "id": "b9bbd884-0f12-40ee-8952-8f808126c3ed",
   "metadata": {},
   "outputs": [],
   "source": [
    "point_clouds = list(map(lambda x: x[:, :3], cloud_arrays))"
   ]
  },
  {
   "cell_type": "code",
   "execution_count": 14,
   "id": "abd7c5d3-7b4a-4817-a935-7fe8a924e0ac",
   "metadata": {},
   "outputs": [],
   "source": [
    "def down_segment_cluster(pcd, voxel_size, distance_threshold, ransac_n, num_iterations, eps, min_points):\n",
    "    \n",
    "    # Segmentation of the road and objects\n",
    "    _, inliers = pcd.segment_plane(distance_threshold=distance_threshold, ransac_n=ransac_n, num_iterations=num_iterations)\n",
    "    inlier_cloud = pcd.select_by_index(inliers)\n",
    "    pcd = pcd.select_by_index(inliers, invert=True)\n",
    "    inlier_cloud.paint_uniform_color([1,0,0])\n",
    "    pcd.paint_uniform_color([0,0,1])\n",
    "\n",
    "    # Voxel downsample to remove uneccessary points\n",
    "    pcd_down = pcd.voxel_down_sample(voxel_size=voxel_size)\n",
    "    \n",
    "    # Clustering and Labeling\n",
    "    with o3d.utility.VerbosityContextManager(o3d.utility.VerbosityLevel.Debug) as cm:\n",
    "        labels = np.array(pcd_down.cluster_dbscan(eps=eps, min_points=min_points, print_progress=False))\n",
    "    max_label = labels.max()\n",
    "    print(f\"point cloud has {max_label + 1} clusters\")\n",
    "    colors = plt.get_cmap(\"tab20\")(labels / (max_label if max_label > 0 else 1))\n",
    "    colors[labels < 0] = 0\n",
    "    pcd_down.colors = o3d.utility.Vector3dVector(colors[:, :3])\n",
    "    \n",
    "    return labels, pcd_down, pcd"
   ]
  },
  {
   "cell_type": "code",
   "execution_count": 19,
   "id": "6d566a7f-8656-4829-a541-68268ce95cd6",
   "metadata": {},
   "outputs": [],
   "source": [
    "# o3d.visualization.draw_geometries([pcd])"
   ]
  },
  {
   "cell_type": "code",
   "execution_count": 80,
   "id": "8e472e55-d9d4-4a89-9dfb-1242e7bc0efe",
   "metadata": {
    "tags": []
   },
   "outputs": [],
   "source": [
    "params = {'voxel_size': 0.3,\n",
    "          'distance_threshold': 0.2, \n",
    "          'ransac_n': 3, \n",
    "          'num_iterations': 500, \n",
    "          'eps': 0.9, \n",
    "          'min_points': 10}\n",
    "\n",
    "shorter_frames = list()\n",
    "for i in tqdm(range(0, 3331, 30)):\n",
    "    # Create Point Clouds\n",
    "    pcd = o3d.geometry.PointCloud()\n",
    "    pcd.points = o3d.utility.Vector3dVector(point_clouds[i])\n",
    "    # Create Clusters\n",
    "    labels, pcd_out, pcd = down_segment_cluster(pcd, **params)\n",
    "    # Append labels and cloud to list\n",
    "    shorter_frames.append([labels, pcd_out, pcd])\n",
    "    # break"
   ]
  },
  {
   "cell_type": "code",
   "execution_count": 21,
   "id": "f065ca83-5ede-4f5f-869e-65e4497f1e48",
   "metadata": {},
   "outputs": [],
   "source": [
    "k = 0\n",
    "labels = shorter_frames[k][0]\n",
    "cloud_clusters = shorter_frames[k][1]\n",
    "original_cloud = shorter_frames[k][2]"
   ]
  },
  {
   "cell_type": "code",
   "execution_count": 22,
   "id": "d7aa8011-5171-4bcd-94c5-48a81e4a32a2",
   "metadata": {},
   "outputs": [],
   "source": [
    "o3d.visualization.draw_geometries([cloud_clusters])"
   ]
  },
  {
   "cell_type": "code",
   "execution_count": 23,
   "id": "a442a731-a6a6-45e2-a417-7dde825a1d32",
   "metadata": {},
   "outputs": [],
   "source": [
    "def get_bounding_boxes(labels, pcd):\n",
    "    \n",
    "    \"\"\"\n",
    "    Get the bounding boxes given the labels and the point cloud\n",
    "    \n",
    "    \"\"\"\n",
    "    \n",
    "    obbs = []\n",
    "    indexes = pd.Series(range(len(labels))).groupby(labels, sort=False).apply(list).tolist()\n",
    "\n",
    "    Max_Points = 1000\n",
    "    Min_Points = 10\n",
    "\n",
    "    for i in range(0, len(indexes)):\n",
    "        nb_pts = len(pcd.select_by_index(indexes[i]).points)\n",
    "        if (nb_pts > Min_Points and nb_pts < Max_Points):\n",
    "            sub_cloud = pcd.select_by_index(indexes[i])\n",
    "            obb = sub_cloud.get_axis_aligned_bounding_box()\n",
    "            obb.color=(0,0,1)\n",
    "            obbs.append(obb)\n",
    "            \n",
    "    return obbs"
   ]
  },
  {
   "cell_type": "code",
   "execution_count": 24,
   "id": "cc4e0aae-3d78-4394-bd40-10731757af2e",
   "metadata": {},
   "outputs": [],
   "source": [
    "bbxs = get_bounding_boxes(labels = labels, pcd = cloud_clusters)\n",
    "o3d.visualization.draw_geometries([cloud_clusters] + bbxs)"
   ]
  },
  {
   "cell_type": "code",
   "execution_count": 14,
   "id": "2b30e695-0fa4-46cf-93ef-4dfc29f374a7",
   "metadata": {},
   "outputs": [
    {
     "data": {
      "text/plain": [
       "86"
      ]
     },
     "execution_count": 14,
     "metadata": {},
     "output_type": "execute_result"
    }
   ],
   "source": [
    "max_clusters = np.array(list(map(lambda x: x[0].max()+1, shorter_frames))).max()\n",
    "max_clusters"
   ]
  },
  {
   "cell_type": "code",
   "execution_count": 25,
   "id": "b7fc2d17-91ee-4e95-814a-b6ce18bb3bca",
   "metadata": {},
   "outputs": [],
   "source": [
    "def hard_code_add_geometry(vis, bbxs):\n",
    "    \n",
    "    lines = [[0, 1], [1, 2], [2, 3], [0, 3], \n",
    "             [4, 5], [5, 6], [6, 7], [4, 7],\n",
    "             [0, 4], [1, 5], [2, 6], [3, 7]]\n",
    "    \n",
    "    for c in range(max_clusters):\n",
    "        \n",
    "        line_set = o3d.geometry.LineSet()\n",
    "        line_set.lines = o3d.utility.Vector2iVector(lines)\n",
    "        \n",
    "        if c > len(bbxs) - 1:\n",
    "            vis.add_geometry(line_set)\n",
    "            \n",
    "        else:\n",
    "            line_set.points = bbxs[c].get_box_points()\n",
    "            vis.add_geometry(line_set)\n",
    "    return vis\n",
    "\n",
    "def hard_code_add_geometry2(vis, bbxs):\n",
    "    \n",
    "    lines = [[0, 1], [1, 2], [2, 3], [0, 3], \n",
    "             [4, 5], [5, 6], [6, 7], [4, 7],\n",
    "             [0, 4], [1, 5], [2, 6], [3, 7]]\n",
    "    \n",
    "    for c in range(max_clusters):\n",
    "        \n",
    "        vis.clear_geometries()\n",
    "        \n",
    "        line_set = o3d.geometry.LineSet()\n",
    "        line_set.lines = o3d.utility.Vector2iVector(lines)\n",
    "        \n",
    "        if c > len(bbxs) - 1:\n",
    "            # vis.add_geometry(line_set)\n",
    "            pass\n",
    "            \n",
    "        else:\n",
    "            line_set.points = bbxs[c].get_box_points()\n",
    "            vis.add_geometry(line_set)\n",
    "    return vis\n",
    "\n",
    "\n",
    "def hard_code_update_geometry(vis, new_bbxs):\n",
    "    \n",
    "    lines = [[0, 1], [1, 2], [2, 3], [0, 3], \n",
    "             [4, 5], [5, 6], [6, 7], [4, 7],\n",
    "             [0, 4], [1, 5], [2, 6], [3, 7]]\n",
    "    \n",
    "    for c in range(max_clusters):\n",
    "        \n",
    "        line_set = o3d.geometry.LineSet()\n",
    "        line_set.lines = o3d.utility.Vector2iVector(lines)\n",
    "        \n",
    "        if c > len(new_bbxs) - 1:\n",
    "            line_set = line_set.clear()\n",
    "            vis.update_geometry(line_set)\n",
    "            \n",
    "        else:\n",
    "            line_set = line_set.clear()\n",
    "            line_set.points = new_bbxs[c].get_box_points()\n",
    "            vis.update_geometry(line_set)\n",
    "            \n",
    "    return vis"
   ]
  },
  {
   "cell_type": "code",
   "execution_count": 26,
   "id": "3dbbb5cc-641b-4464-a4ea-7b6721b0b9da",
   "metadata": {},
   "outputs": [],
   "source": [
    "lines = [[0, 1], [1, 2], [2, 3], [0, 3], \n",
    "         [4, 5], [5, 6], [6, 7], [4, 7],\n",
    "         [0, 4], [1, 5], [2, 6], [3, 7]]"
   ]
  },
  {
   "cell_type": "code",
   "execution_count": 29,
   "id": "1d67a110-ffba-4e3f-a0de-c14f8a9fdcb6",
   "metadata": {
    "tags": []
   },
   "outputs": [],
   "source": [
    "vis = o3d.visualization.Visualizer()\n",
    "vis.create_window()\n",
    "\n",
    "source = o3d.geometry.PointCloud()\n",
    "source.points = shorter_frames[0][1].points\n",
    "source.colors = shorter_frames[0][1].colors\n",
    "vis.add_geometry(source)\n",
    "\n",
    "bbxs = get_bounding_boxes(shorter_frames[0][0], shorter_frames[0][1])\n",
    "\n",
    "# vis = hard_code_add_geometry(vis, bbxs)\n",
    "\n",
    "# line_set = o3d.geometry.LineSet()\n",
    "# line_set.lines = o3d.utility.Vector2iVector(lines)\n",
    "# line_set.points = bbxs[10].get_box_points()\n",
    "# vis.add_geometry(line_set)\n",
    "\n",
    "# line_set = o3d.geometry.LineSet()\n",
    "# line_set = line_set.create_from_axis_aligned_bounding_box(bbxs[10])\n",
    "# vis.add_geometry(line_set)\n",
    "\n",
    "\n",
    "try:\n",
    "    for frame_count in range(len(shorter_frames)):\n",
    "        \n",
    "        source.points = shorter_frames[frame_count][1].points\n",
    "        source.colors = shorter_frames[frame_count][1].colors\n",
    "        vis.update_geometry(source)\n",
    "        \n",
    "        new_bbxs = get_bounding_boxes(shorter_frames[frame_count][0], shorter_frames[frame_count][1])\n",
    "        # vis = hard_code_add_geometry2(vis, bbxs)\n",
    "        # line_set = line_set.create_from_axis_aligned_bounding_box(new_bbxs[10])\n",
    "        \n",
    "        # line_set.lines = o3d.utility.Vector2iVector(lines)\n",
    "        # line_set.points = new_bbxs[10].get_box_points()\n",
    "        # vis.update_geometry(line_set)\n",
    "        \n",
    "        # vis = hard_code_update_geometry(vis, new_bbxs)\n",
    "        \n",
    "        vis.poll_events()\n",
    "        vis.update_renderer()\n",
    "\n",
    "        # vis.capture_screen_image(\"D:\\\\EECE 5554\\\\Project\\\\Imgs\\\\temp_%05d.jpg\" % frame_count)\n",
    "finally:\n",
    "    vis.destroy_window()"
   ]
  },
  {
   "cell_type": "markdown",
   "id": "8158f72b-4e77-455a-b77a-11ef7af611f7",
   "metadata": {
    "tags": []
   },
   "source": [
    "# Open3d ML"
   ]
  },
  {
   "cell_type": "code",
   "execution_count": 65,
   "id": "5b9d1051-176d-4b4c-bc06-c06ca77a3e16",
   "metadata": {},
   "outputs": [],
   "source": [
    "import tensorflow as tf\n",
    "import open3d.ml.tf as ml3d\n",
    "# import open3d.ml.torch as ml3d"
   ]
  },
  {
   "cell_type": "code",
   "execution_count": 56,
   "id": "99b097e4-46a0-43c0-8a0c-ce77ec495cfa",
   "metadata": {},
   "outputs": [],
   "source": [
    "import os\n",
    "import open3d.ml as _ml3d"
   ]
  },
  {
   "cell_type": "code",
   "execution_count": 49,
   "id": "459555e4-4131-4239-b516-498be6e8e274",
   "metadata": {},
   "outputs": [],
   "source": [
    "def prepare_point_cloud_for_inference(pcd):\n",
    "    \n",
    "    # Remove NaNs and infinity values\n",
    "    pcd.remove_non_finite_points()\n",
    "  \n",
    "    # Extract the xyz points\n",
    "    xyz = np.asarray(pcd.points)\n",
    "    \n",
    "    # Set the points to the correct format for inference\n",
    "    data = {\"point\":xyz, 'feat': None, \n",
    "            'label':np.zeros((len(xyz),), dtype=np.int32)}\n",
    "    \n",
    "    return data, pcd"
   ]
  },
  {
   "cell_type": "code",
   "execution_count": 33,
   "id": "86bc7aca-19c3-4ad3-a7a3-ed42990f767d",
   "metadata": {},
   "outputs": [],
   "source": [
    "data, pcd = prepare_point_cloud_for_inference(cloud_clusters)"
   ]
  },
  {
   "cell_type": "code",
   "execution_count": 76,
   "id": "4e3029a5-c367-4697-8516-7bed8a31a8df",
   "metadata": {
    "tags": []
   },
   "outputs": [],
   "source": [
    "cfg_file = \"Open3D-ML/ml3d/configs/pointpillars_kitti.yml\" ################################ FOLDER FROM GITHUB REPOSITORY ######################################################\n",
    "cfg = _ml3d.utils.Config.load_from_file(cfg_file)\n",
    "model = ml3d.models.PointPillars(**cfg.model)\n",
    "pipeline = ml3d.pipelines.ObjectDetection(model, **cfg.pipeline)"
   ]
  },
  {
   "cell_type": "code",
   "execution_count": 54,
   "id": "a78cdd8d-0ca1-4f76-a09d-478127d447ab",
   "metadata": {
    "tags": []
   },
   "outputs": [],
   "source": [
    "# load the parameters (1) ###################################### IF THIS DOESN'T WORK, TRY (2)\n",
    "\n",
    "ckpt_folder = \"./logs/\"\n",
    "os.makedirs(ckpt_folder, exist_ok=True)\n",
    "ckpt_path = ckpt_folder + \"pointpillars_kitti_202012221652utc.pth\"\n",
    "pointpillar_url = \"https://storage.googleapis.com/open3d-releases/model-zoo/pointpillars_kitti_202012221652utc.pth\"\n",
    "if not os.path.exists(ckpt_path):\n",
    "    cmd = \"wget {} -O {}\".format(pointpillar_url, ckpt_path)\n",
    "    os.system(cmd)\n",
    "pipeline.load_ckpt(ckpt_path)"
   ]
  },
  {
   "cell_type": "code",
   "execution_count": 78,
   "id": "d92bde14-2ce4-49e0-89fb-754a260f939a",
   "metadata": {
    "tags": []
   },
   "outputs": [
    {
     "data": {
      "text/plain": [
       "0"
      ]
     },
     "execution_count": 78,
     "metadata": {},
     "output_type": "execute_result"
    }
   ],
   "source": [
    "# load the parameters (2)\n",
    "pipeline.load_ckpt(ckpt_path='/home/german/Desktop/Project/pointpillars_kitti_202012221652utc/ckpt-12.index') ################################ FOLDER FROM DOWNLOADED WEIGHTS ######################################################"
   ]
  },
  {
   "cell_type": "code",
   "execution_count": 62,
   "id": "2262dd26-2d37-4edf-b9e4-2d7550384f8c",
   "metadata": {},
   "outputs": [
    {
     "data": {
      "text/plain": [
       "{'point': array([[ 32.37499619, -11.50275421,   5.44173002],\n",
       "        [ 32.38158798, -11.4732132 ,   9.20515823],\n",
       "        [ 32.72634125, -11.4862566 ,   4.25860262],\n",
       "        ...,\n",
       "        [ 11.91393216,  18.31762505,  -0.38141652],\n",
       "        [ 14.94410515,  19.95416514,   6.67994722],\n",
       "        [ 14.08106613,  18.19886716,   1.20592519]]),\n",
       " 'feat': None,\n",
       " 'label': array([0, 0, 0, ..., 0, 0, 0], dtype=int32)}"
      ]
     },
     "execution_count": 62,
     "metadata": {},
     "output_type": "execute_result"
    }
   ],
   "source": [
    "data"
   ]
  },
  {
   "cell_type": "code",
   "execution_count": 79,
   "id": "801104ca-d146-4108-9aa0-11f4be272f46",
   "metadata": {},
   "outputs": [
    {
     "ename": "KeyError",
     "evalue": "'Exception encountered when calling layer \"point_pillars_4\" (type PointPillars).\\n\\n0\\n\\nCall arguments received:\\n  • inputs={\\'point\\': \\'tf.Tensor(shape=(5885, 3), dtype=float32)\\', \\'feat\\': \\'None\\', \\'label\\': \\'tf.Tensor(shape=(5885,), dtype=int32)\\'}\\n  • training=False'",
     "output_type": "error",
     "traceback": [
      "\u001b[0;31m---------------------------------------------------------------------------\u001b[0m",
      "\u001b[0;31mKeyError\u001b[0m                                  Traceback (most recent call last)",
      "\u001b[0;32m/tmp/ipykernel_39566/3584476445.py\u001b[0m in \u001b[0;36m<module>\u001b[0;34m\u001b[0m\n\u001b[0;32m----> 1\u001b[0;31m \u001b[0mresult\u001b[0m \u001b[0;34m=\u001b[0m \u001b[0mpipeline\u001b[0m\u001b[0;34m.\u001b[0m\u001b[0mrun_inference\u001b[0m\u001b[0;34m(\u001b[0m\u001b[0mdata\u001b[0m\u001b[0;34m)\u001b[0m\u001b[0;34m\u001b[0m\u001b[0;34m\u001b[0m\u001b[0m\n\u001b[0m",
      "\u001b[0;32m~/anaconda3/envs/o3d/lib/python3.7/site-packages/open3d/_ml3d/tf/pipelines/object_detection.py\u001b[0m in \u001b[0;36mrun_inference\u001b[0;34m(self, data)\u001b[0m\n\u001b[1;32m     50\u001b[0m         \u001b[0mmodel\u001b[0m \u001b[0;34m=\u001b[0m \u001b[0mself\u001b[0m\u001b[0;34m.\u001b[0m\u001b[0mmodel\u001b[0m\u001b[0;34m\u001b[0m\u001b[0;34m\u001b[0m\u001b[0m\n\u001b[1;32m     51\u001b[0m \u001b[0;34m\u001b[0m\u001b[0m\n\u001b[0;32m---> 52\u001b[0;31m         \u001b[0mresults\u001b[0m \u001b[0;34m=\u001b[0m \u001b[0mmodel\u001b[0m\u001b[0;34m(\u001b[0m\u001b[0mdata\u001b[0m\u001b[0;34m,\u001b[0m \u001b[0mtraining\u001b[0m\u001b[0;34m=\u001b[0m\u001b[0;32mFalse\u001b[0m\u001b[0;34m)\u001b[0m\u001b[0;34m\u001b[0m\u001b[0;34m\u001b[0m\u001b[0m\n\u001b[0m\u001b[1;32m     53\u001b[0m         \u001b[0mboxes\u001b[0m \u001b[0;34m=\u001b[0m \u001b[0mmodel\u001b[0m\u001b[0;34m.\u001b[0m\u001b[0minference_end\u001b[0m\u001b[0;34m(\u001b[0m\u001b[0mresults\u001b[0m\u001b[0;34m,\u001b[0m \u001b[0mdata\u001b[0m\u001b[0;34m)\u001b[0m\u001b[0;34m\u001b[0m\u001b[0;34m\u001b[0m\u001b[0m\n\u001b[1;32m     54\u001b[0m \u001b[0;34m\u001b[0m\u001b[0m\n",
      "\u001b[0;32m~/anaconda3/envs/o3d/lib/python3.7/site-packages/keras/utils/traceback_utils.py\u001b[0m in \u001b[0;36merror_handler\u001b[0;34m(*args, **kwargs)\u001b[0m\n\u001b[1;32m     65\u001b[0m     \u001b[0;32mexcept\u001b[0m \u001b[0mException\u001b[0m \u001b[0;32mas\u001b[0m \u001b[0me\u001b[0m\u001b[0;34m:\u001b[0m  \u001b[0;31m# pylint: disable=broad-except\u001b[0m\u001b[0;34m\u001b[0m\u001b[0;34m\u001b[0m\u001b[0m\n\u001b[1;32m     66\u001b[0m       \u001b[0mfiltered_tb\u001b[0m \u001b[0;34m=\u001b[0m \u001b[0m_process_traceback_frames\u001b[0m\u001b[0;34m(\u001b[0m\u001b[0me\u001b[0m\u001b[0;34m.\u001b[0m\u001b[0m__traceback__\u001b[0m\u001b[0;34m)\u001b[0m\u001b[0;34m\u001b[0m\u001b[0;34m\u001b[0m\u001b[0m\n\u001b[0;32m---> 67\u001b[0;31m       \u001b[0;32mraise\u001b[0m \u001b[0me\u001b[0m\u001b[0;34m.\u001b[0m\u001b[0mwith_traceback\u001b[0m\u001b[0;34m(\u001b[0m\u001b[0mfiltered_tb\u001b[0m\u001b[0;34m)\u001b[0m \u001b[0;32mfrom\u001b[0m \u001b[0;32mNone\u001b[0m\u001b[0;34m\u001b[0m\u001b[0;34m\u001b[0m\u001b[0m\n\u001b[0m\u001b[1;32m     68\u001b[0m     \u001b[0;32mfinally\u001b[0m\u001b[0;34m:\u001b[0m\u001b[0;34m\u001b[0m\u001b[0;34m\u001b[0m\u001b[0m\n\u001b[1;32m     69\u001b[0m       \u001b[0;32mdel\u001b[0m \u001b[0mfiltered_tb\u001b[0m\u001b[0;34m\u001b[0m\u001b[0;34m\u001b[0m\u001b[0m\n",
      "\u001b[0;32m~/anaconda3/envs/o3d/lib/python3.7/site-packages/open3d/_ml3d/tf/models/point_pillars.py\u001b[0m in \u001b[0;36mcall\u001b[0;34m(self, inputs, training)\u001b[0m\n\u001b[1;32m    140\u001b[0m         \u001b[0;34m:\u001b[0m\u001b[0mparam\u001b[0m \u001b[0mtraining\u001b[0m\u001b[0;34m:\u001b[0m \u001b[0mtoggle\u001b[0m \u001b[0mtraining\u001b[0m \u001b[0mrun\u001b[0m\u001b[0;34m\u001b[0m\u001b[0;34m\u001b[0m\u001b[0m\n\u001b[1;32m    141\u001b[0m         \"\"\"\n\u001b[0;32m--> 142\u001b[0;31m         \u001b[0minputs\u001b[0m \u001b[0;34m=\u001b[0m \u001b[0munpack\u001b[0m\u001b[0;34m(\u001b[0m\u001b[0minputs\u001b[0m\u001b[0;34m[\u001b[0m\u001b[0;36m0\u001b[0m\u001b[0;34m]\u001b[0m\u001b[0;34m,\u001b[0m \u001b[0minputs\u001b[0m\u001b[0;34m[\u001b[0m\u001b[0;34m-\u001b[0m\u001b[0;36m2\u001b[0m\u001b[0;34m]\u001b[0m\u001b[0;34m)\u001b[0m\u001b[0;34m\u001b[0m\u001b[0;34m\u001b[0m\u001b[0m\n\u001b[0m\u001b[1;32m    143\u001b[0m         \u001b[0mx\u001b[0m \u001b[0;34m=\u001b[0m \u001b[0mself\u001b[0m\u001b[0;34m.\u001b[0m\u001b[0mextract_feats\u001b[0m\u001b[0;34m(\u001b[0m\u001b[0minputs\u001b[0m\u001b[0;34m,\u001b[0m \u001b[0mtraining\u001b[0m\u001b[0;34m=\u001b[0m\u001b[0mtraining\u001b[0m\u001b[0;34m)\u001b[0m\u001b[0;34m\u001b[0m\u001b[0;34m\u001b[0m\u001b[0m\n\u001b[1;32m    144\u001b[0m         \u001b[0mouts\u001b[0m \u001b[0;34m=\u001b[0m \u001b[0mself\u001b[0m\u001b[0;34m.\u001b[0m\u001b[0mbbox_head\u001b[0m\u001b[0;34m(\u001b[0m\u001b[0mx\u001b[0m\u001b[0;34m,\u001b[0m \u001b[0mtraining\u001b[0m\u001b[0;34m=\u001b[0m\u001b[0mtraining\u001b[0m\u001b[0;34m)\u001b[0m\u001b[0;34m\u001b[0m\u001b[0;34m\u001b[0m\u001b[0m\n",
      "\u001b[0;31mKeyError\u001b[0m: 'Exception encountered when calling layer \"point_pillars_4\" (type PointPillars).\\n\\n0\\n\\nCall arguments received:\\n  • inputs={\\'point\\': \\'tf.Tensor(shape=(5885, 3), dtype=float32)\\', \\'feat\\': \\'None\\', \\'label\\': \\'tf.Tensor(shape=(5885,), dtype=int32)\\'}\\n  • training=False'"
     ]
    }
   ],
   "source": [
    "result = pipeline.run_inference(data)"
   ]
  },
  {
   "cell_type": "markdown",
   "id": "3b68a435-4a92-45d9-a4ac-39a83c60bf8c",
   "metadata": {
    "jp-MarkdownHeadingCollapsed": true,
    "tags": []
   },
   "source": [
    "# Create Video"
   ]
  },
  {
   "cell_type": "code",
   "execution_count": null,
   "id": "fc13ca0b-c1bd-4968-9dc6-6dbe47313f4b",
   "metadata": {},
   "outputs": [],
   "source": [
    "import glob\n",
    "import cv2\n",
    "import os"
   ]
  },
  {
   "cell_type": "code",
   "execution_count": null,
   "id": "983a7752-2d82-41e9-b068-3ac00e08b99f",
   "metadata": {},
   "outputs": [],
   "source": [
    "size = (1920, 1055)\n",
    "out = cv2.VideoWriter(os.path.join(\"D:\\\\EECE 5554\\\\Project\\\\\", 'Video.mp4'), cv2.VideoWriter_fourcc(*'DIVX'), 30, size)\n",
    "\n",
    "for pcd_img in tqdm(sorted(glob.glob(\"D:\\\\EECE 5554\\\\Project\\\\Imgs\\\\*\"))):\n",
    "    pcd_img = cv2.imread(pcd_img)\n",
    "    out.write(pcd_img)\n",
    "out.release()"
   ]
  }
 ],
 "metadata": {
  "kernelspec": {
   "display_name": "Python 3 (ipykernel)",
   "language": "python",
   "name": "python3"
  },
  "language_info": {
   "codemirror_mode": {
    "name": "ipython",
    "version": 3
   },
   "file_extension": ".py",
   "mimetype": "text/x-python",
   "name": "python",
   "nbconvert_exporter": "python",
   "pygments_lexer": "ipython3",
   "version": "3.7.15"
  }
 },
 "nbformat": 4,
 "nbformat_minor": 5
}
